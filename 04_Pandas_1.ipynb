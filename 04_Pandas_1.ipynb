{
 "cells": [
  {
   "cell_type": "markdown",
   "metadata": {
    "id": "bJQkB2DHPBWc"
   },
   "source": [
    "![rmotr](https://user-images.githubusercontent.com/7065401/52071918-bda15380-2562-11e9-828c-7f95297e4a82.png)\n",
    "<hr style=\"margin-bottom: 40px;\">\n",
    "\n",
    "<img src=\"https://user-images.githubusercontent.com/7065401/75165824-badf4680-5701-11ea-9c5b-5475b0a33abf.png\"\n",
    "    style=\"width:300px; float: right; margin: 0 40px 40px 40px;\"></img>\n",
    "\n",
    "# Pandas - Series\n"
   ]
  },
  {
   "cell_type": "markdown",
   "metadata": {
    "id": "DuboBiIbPBWk"
   },
   "source": [
    "![purple-divider](https://user-images.githubusercontent.com/7065401/52071927-c1cd7100-2562-11e9-908a-dde91ba14e59.png)\n",
    "\n",
    "## Hands on! "
   ]
  },
  {
   "cell_type": "code",
   "execution_count": null,
   "metadata": {
    "id": "xeZJcsyPPBWm"
   },
   "outputs": [],
   "source": [
    "import pandas as pd\n",
    "import numpy as np"
   ]
  },
  {
   "cell_type": "markdown",
   "metadata": {
    "id": "nevgy_-jPBWo"
   },
   "source": [
    "## Pandas Series\n",
    "\n",
    "We'll start analyzing \"[The Group of Seven](https://en.wikipedia.org/wiki/Group_of_Seven)\". Which is a political formed by Canada, France, Germany, Italy, Japan, the United Kingdom and the United States. We'll start by analyzing population, and for that, we'll use a `pandas.Series` object."
   ]
  },
  {
   "cell_type": "code",
   "execution_count": null,
   "metadata": {
    "id": "fwvq-weBPBWq"
   },
   "outputs": [],
   "source": [
    "# In millions\n",
    "g7_pop = pd.Series([35.467, 63.951, 80.940, 60.665, 127.061, 64.511, 318.523])"
   ]
  },
  {
   "cell_type": "code",
   "execution_count": null,
   "metadata": {
    "id": "5QjRsRnsPBWr",
    "outputId": "95374a9c-1d77-4d8a-a86b-1ea48f9b45b4",
    "scrolled": true
   },
   "outputs": [
    {
     "data": {
      "text/plain": [
       "0     35.467\n",
       "1     63.951\n",
       "2     80.940\n",
       "3     60.665\n",
       "4    127.061\n",
       "5     64.511\n",
       "6    318.523\n",
       "dtype: float64"
      ]
     },
     "execution_count": 3,
     "metadata": {},
     "output_type": "execute_result"
    }
   ],
   "source": [
    "g7_pop"
   ]
  },
  {
   "cell_type": "markdown",
   "metadata": {
    "id": "xMxjS0LXPBWu"
   },
   "source": [
    "Someone might not know we're representing population in millions of inhabitants. Series can have a `name`, to better document the purpose of the Series:"
   ]
  },
  {
   "cell_type": "code",
   "execution_count": null,
   "metadata": {
    "id": "QIUDFP29PBWw"
   },
   "outputs": [],
   "source": [
    "g7_pop.name = 'G7 Population in millions'"
   ]
  },
  {
   "cell_type": "code",
   "execution_count": null,
   "metadata": {
    "id": "-dzC5vnRPBWx",
    "outputId": "325661b6-d6ba-43a6-c15b-b83520153b41"
   },
   "outputs": [
    {
     "data": {
      "text/plain": [
       "0     35.467\n",
       "1     63.951\n",
       "2     80.940\n",
       "3     60.665\n",
       "4    127.061\n",
       "5     64.511\n",
       "6    318.523\n",
       "Name: G7 Population in millions, dtype: float64"
      ]
     },
     "execution_count": 5,
     "metadata": {},
     "output_type": "execute_result"
    }
   ],
   "source": [
    "g7_pop"
   ]
  },
  {
   "cell_type": "markdown",
   "metadata": {
    "id": "nYOaxqBrPBWz"
   },
   "source": [
    "Series are pretty similar to numpy arrays:"
   ]
  },
  {
   "cell_type": "code",
   "execution_count": null,
   "metadata": {
    "id": "S-8Vq0v-PBWz",
    "outputId": "3dd0cb46-de2d-483d-b400-f7f2d38252d7"
   },
   "outputs": [
    {
     "data": {
      "text/plain": [
       "dtype('float64')"
      ]
     },
     "execution_count": 6,
     "metadata": {},
     "output_type": "execute_result"
    }
   ],
   "source": [
    "g7_pop.dtype"
   ]
  },
  {
   "cell_type": "code",
   "execution_count": null,
   "metadata": {
    "id": "5xIVTm-tPBW0",
    "outputId": "4e03d0dc-a9b3-42b6-f10c-fb50fdbf33df"
   },
   "outputs": [
    {
     "data": {
      "text/plain": [
       "array([ 35.467,  63.951,  80.94 ,  60.665, 127.061,  64.511, 318.523])"
      ]
     },
     "execution_count": 7,
     "metadata": {},
     "output_type": "execute_result"
    }
   ],
   "source": [
    "g7_pop.values"
   ]
  },
  {
   "cell_type": "markdown",
   "metadata": {
    "id": "_z6eL_O1PBW1"
   },
   "source": [
    "They're actually backed by numpy arrays:"
   ]
  },
  {
   "cell_type": "code",
   "execution_count": null,
   "metadata": {
    "id": "sqy5908hPBW1",
    "outputId": "95877c06-6c1a-4e09-de1f-421f6cb402e7"
   },
   "outputs": [
    {
     "data": {
      "text/plain": [
       "numpy.ndarray"
      ]
     },
     "execution_count": 8,
     "metadata": {},
     "output_type": "execute_result"
    }
   ],
   "source": [
    "type(g7_pop.values)"
   ]
  },
  {
   "cell_type": "markdown",
   "metadata": {
    "id": "4a3jeGpJPBW2"
   },
   "source": [
    "And they _look_ like simple Python lists or Numpy Arrays. But they're actually more similar to Python `dict`s.\n",
    "\n",
    "A Series has an `index`, that's similar to the automatic index assigned to Python's lists:"
   ]
  },
  {
   "cell_type": "code",
   "execution_count": null,
   "metadata": {
    "id": "F8ixPeGlPBW3",
    "outputId": "166d4c9c-889e-4394-8f94-2860335a6cfe"
   },
   "outputs": [
    {
     "data": {
      "text/plain": [
       "0     35.467\n",
       "1     63.951\n",
       "2     80.940\n",
       "3     60.665\n",
       "4    127.061\n",
       "5     64.511\n",
       "6    318.523\n",
       "Name: G7 Population in millions, dtype: float64"
      ]
     },
     "execution_count": 9,
     "metadata": {},
     "output_type": "execute_result"
    }
   ],
   "source": [
    "g7_pop"
   ]
  },
  {
   "cell_type": "code",
   "execution_count": null,
   "metadata": {
    "id": "auBPuR2fPBW3",
    "outputId": "ba851dfe-4f76-4ad3-8726-3552a832c1bd"
   },
   "outputs": [
    {
     "data": {
      "text/plain": [
       "35.467"
      ]
     },
     "execution_count": 10,
     "metadata": {},
     "output_type": "execute_result"
    }
   ],
   "source": [
    "g7_pop[0]"
   ]
  },
  {
   "cell_type": "code",
   "execution_count": null,
   "metadata": {
    "id": "V8BfY5R-PBW4",
    "outputId": "9eba481e-c88c-4fec-b719-020febe15b68"
   },
   "outputs": [
    {
     "data": {
      "text/plain": [
       "63.951"
      ]
     },
     "execution_count": 11,
     "metadata": {},
     "output_type": "execute_result"
    }
   ],
   "source": [
    "g7_pop[1]"
   ]
  },
  {
   "cell_type": "code",
   "execution_count": null,
   "metadata": {
    "id": "folAh5hxPBW4",
    "outputId": "c650ba42-3976-47ec-cfaa-b86e454c90f6"
   },
   "outputs": [
    {
     "data": {
      "text/plain": [
       "RangeIndex(start=0, stop=7, step=1)"
      ]
     },
     "execution_count": 12,
     "metadata": {},
     "output_type": "execute_result"
    }
   ],
   "source": [
    "g7_pop.index"
   ]
  },
  {
   "cell_type": "code",
   "execution_count": null,
   "metadata": {
    "id": "01Wjq-aQPBW5"
   },
   "outputs": [],
   "source": [
    "l = ['a', 'b', 'c']"
   ]
  },
  {
   "cell_type": "markdown",
   "metadata": {
    "id": "n9cYnFV8PBW5"
   },
   "source": [
    "But, in contrast to lists, we can explicitly define the index:"
   ]
  },
  {
   "cell_type": "code",
   "execution_count": null,
   "metadata": {
    "id": "hbEgWkg4PBW6"
   },
   "outputs": [],
   "source": [
    "g7_pop.index = [\n",
    "    'Canada',\n",
    "    'France',\n",
    "    'Germany',\n",
    "    'Italy',\n",
    "    'Japan',\n",
    "    'United Kingdom',\n",
    "    'United States',\n",
    "]"
   ]
  },
  {
   "cell_type": "code",
   "execution_count": null,
   "metadata": {
    "id": "vnNdbCxgPBW6",
    "outputId": "c7fc99d9-7bd6-449b-f49c-7ade3532719a"
   },
   "outputs": [
    {
     "data": {
      "text/plain": [
       "Canada             35.467\n",
       "France             63.951\n",
       "Germany            80.940\n",
       "Italy              60.665\n",
       "Japan             127.061\n",
       "United Kingdom     64.511\n",
       "United States     318.523\n",
       "Name: G7 Population in millions, dtype: float64"
      ]
     },
     "execution_count": 15,
     "metadata": {},
     "output_type": "execute_result"
    }
   ],
   "source": [
    "g7_pop"
   ]
  },
  {
   "cell_type": "markdown",
   "metadata": {
    "id": "WHHIxTCcPBW6"
   },
   "source": [
    "Compare it with the [following table](https://docs.google.com/spreadsheets/d/1IlorV2-Oh9Da1JAZ7weVw86PQrQydSMp-ydVMH135iI/edit?usp=sharing): \n",
    "\n",
    "<img width=\"350\" src=\"https://user-images.githubusercontent.com/872296/38149656-b5ce9816-3431-11e8-88e4-195756e25355.png\" />\n",
    "\n",
    "We can say that Series look like \"ordered dictionaries\". We can actually create Series out of dictionaries:"
   ]
  },
  {
   "cell_type": "code",
   "execution_count": null,
   "metadata": {
    "id": "n_gUZnqsPBW7",
    "outputId": "5635fb18-ad7f-45e8-e5d9-40b6125f499b",
    "scrolled": true
   },
   "outputs": [
    {
     "data": {
      "text/plain": [
       "Canada             35.467\n",
       "France             63.951\n",
       "Germany            80.940\n",
       "Italy              60.665\n",
       "Japan             127.061\n",
       "United Kingdom     64.511\n",
       "United States     318.523\n",
       "Name: G7 Population in millions, dtype: float64"
      ]
     },
     "execution_count": 16,
     "metadata": {},
     "output_type": "execute_result"
    }
   ],
   "source": [
    "pd.Series({\n",
    "    'Canada': 35.467,\n",
    "    'France': 63.951,\n",
    "    'Germany': 80.94,\n",
    "    'Italy': 60.665,\n",
    "    'Japan': 127.061,\n",
    "    'United Kingdom': 64.511,\n",
    "    'United States': 318.523\n",
    "}, name='G7 Population in millions')"
   ]
  },
  {
   "cell_type": "code",
   "execution_count": null,
   "metadata": {
    "id": "HwgDNp6EPBW7",
    "outputId": "3fc02fc9-ff64-4774-97c4-29b8db82783d"
   },
   "outputs": [
    {
     "data": {
      "text/plain": [
       "Canada             35.467\n",
       "France             63.951\n",
       "Germany            80.940\n",
       "Italy              60.665\n",
       "Japan             127.061\n",
       "United Kingdom     64.511\n",
       "United States     318.523\n",
       "Name: G7 Population in millions, dtype: float64"
      ]
     },
     "execution_count": 17,
     "metadata": {},
     "output_type": "execute_result"
    }
   ],
   "source": [
    "pd.Series(\n",
    "    [35.467, 63.951, 80.94, 60.665, 127.061, 64.511, 318.523],\n",
    "    index=['Canada', 'France', 'Germany', 'Italy', 'Japan', 'United Kingdom',\n",
    "       'United States'],\n",
    "    name='G7 Population in millions')"
   ]
  },
  {
   "cell_type": "markdown",
   "metadata": {
    "id": "FidinA7APBW8"
   },
   "source": [
    "You can also create Series out of other series, specifying indexes:"
   ]
  },
  {
   "cell_type": "code",
   "execution_count": null,
   "metadata": {
    "id": "Bxsdza0_PBW8",
    "outputId": "0072ac42-bd3a-4fa8-84b7-1b777d1b1d0b"
   },
   "outputs": [
    {
     "data": {
      "text/plain": [
       "France     63.951\n",
       "Germany    80.940\n",
       "Italy      60.665\n",
       "Spain         NaN\n",
       "Name: G7 Population in millions, dtype: float64"
      ]
     },
     "execution_count": 18,
     "metadata": {},
     "output_type": "execute_result"
    }
   ],
   "source": [
    "pd.Series(g7_pop, index=['France', 'Germany', 'Italy', 'Spain'])"
   ]
  },
  {
   "cell_type": "code",
   "execution_count": null,
   "metadata": {
    "colab": {
     "base_uri": "https://localhost:8080/"
    },
    "id": "cycbrSqdPalS",
    "outputId": "80569890-515e-473c-a91e-961106a49d42"
   },
   "outputs": [
    {
     "name": "stdout",
     "output_type": "stream",
     "text": [
      "Tom      8\n",
      "Kris     2\n",
      "Ahmad    5\n",
      "Beau     6\n",
      "dtype: int64\n"
     ]
    }
   ],
   "source": [
    "#import pandas as pd\n",
    "\n",
    "certificates_earned = pd.Series(\n",
    "    [8, 2, 5, 6],\n",
    "    index=['Tom', 'Kris', 'Ahmad', 'Beau']\n",
    ")\n",
    "\n",
    "print(certificates_earned)"
   ]
  },
  {
   "cell_type": "markdown",
   "metadata": {
    "id": "UEQH4cBNPBW8"
   },
   "source": [
    "![green-divider](https://user-images.githubusercontent.com/7065401/52071924-c003ad80-2562-11e9-8297-1c6595f8a7ff.png)\n",
    "\n",
    "## Indexing\n",
    "\n",
    "Indexing works similarly to lists and dictionaries, you use the **index** of the element you're looking for:"
   ]
  },
  {
   "cell_type": "code",
   "execution_count": null,
   "metadata": {
    "id": "aq7vb63_PBW8",
    "outputId": "96b051ee-a4f8-4608-92ed-3377daa844e4"
   },
   "outputs": [
    {
     "data": {
      "text/plain": [
       "Canada             35.467\n",
       "France             63.951\n",
       "Germany            80.940\n",
       "Italy              60.665\n",
       "Japan             127.061\n",
       "United Kingdom     64.511\n",
       "United States     318.523\n",
       "Name: G7 Population in millions, dtype: float64"
      ]
     },
     "execution_count": 19,
     "metadata": {},
     "output_type": "execute_result"
    }
   ],
   "source": [
    "g7_pop"
   ]
  },
  {
   "cell_type": "code",
   "execution_count": null,
   "metadata": {
    "id": "bsIk28ABPBW9",
    "outputId": "ce845b99-d919-4ce9-ca3f-1218ef5458d3"
   },
   "outputs": [
    {
     "data": {
      "text/plain": [
       "35.467"
      ]
     },
     "execution_count": 20,
     "metadata": {},
     "output_type": "execute_result"
    }
   ],
   "source": [
    "g7_pop['Canada']"
   ]
  },
  {
   "cell_type": "code",
   "execution_count": null,
   "metadata": {
    "id": "ofb2yVpCPBW9",
    "outputId": "cdcc45ef-5bae-445a-af93-03f8e3d2347b"
   },
   "outputs": [
    {
     "data": {
      "text/plain": [
       "127.061"
      ]
     },
     "execution_count": 21,
     "metadata": {},
     "output_type": "execute_result"
    }
   ],
   "source": [
    "g7_pop['Japan']"
   ]
  },
  {
   "cell_type": "markdown",
   "metadata": {
    "id": "bdae_QtwPBW9"
   },
   "source": [
    "Numeric positions can also be used, with the `iloc` attribute:"
   ]
  },
  {
   "cell_type": "code",
   "execution_count": null,
   "metadata": {
    "id": "G0a8SS0WPBW9",
    "outputId": "6402ffa2-4ad3-4957-f6c7-10ab338fb872"
   },
   "outputs": [
    {
     "data": {
      "text/plain": [
       "35.467"
      ]
     },
     "execution_count": 22,
     "metadata": {},
     "output_type": "execute_result"
    }
   ],
   "source": [
    "g7_pop.iloc[0]"
   ]
  },
  {
   "cell_type": "code",
   "execution_count": null,
   "metadata": {
    "id": "TNqc6KTBPBW-",
    "outputId": "1a24aaa4-55c1-4189-d566-79bacef46c3c",
    "scrolled": true
   },
   "outputs": [
    {
     "data": {
      "text/plain": [
       "318.523"
      ]
     },
     "execution_count": 23,
     "metadata": {},
     "output_type": "execute_result"
    }
   ],
   "source": [
    "g7_pop.iloc[-1]"
   ]
  },
  {
   "cell_type": "markdown",
   "metadata": {
    "id": "oTqsoDzfPBW-"
   },
   "source": [
    "Selecting multiple elements at once:"
   ]
  },
  {
   "cell_type": "code",
   "execution_count": null,
   "metadata": {
    "id": "93KRhyZTPBW-",
    "outputId": "7330f10b-346d-4a01-8301-0d8461a817ce",
    "scrolled": true
   },
   "outputs": [
    {
     "data": {
      "text/plain": [
       "Italy     60.665\n",
       "France    63.951\n",
       "Name: G7 Population in millions, dtype: float64"
      ]
     },
     "execution_count": 24,
     "metadata": {},
     "output_type": "execute_result"
    }
   ],
   "source": [
    "g7_pop[['Italy', 'France']]"
   ]
  },
  {
   "cell_type": "markdown",
   "metadata": {
    "id": "p_m5C1QUPBW-"
   },
   "source": [
    "_(The result is another Series)_"
   ]
  },
  {
   "cell_type": "code",
   "execution_count": null,
   "metadata": {
    "id": "8iuy_wGYPBW_",
    "outputId": "dfd2770a-f5c8-4db3-81d2-40f9a542905b",
    "scrolled": true
   },
   "outputs": [
    {
     "data": {
      "text/plain": [
       "Canada    35.467\n",
       "France    63.951\n",
       "Name: G7 Population in millions, dtype: float64"
      ]
     },
     "execution_count": 25,
     "metadata": {},
     "output_type": "execute_result"
    }
   ],
   "source": [
    "g7_pop.iloc[[0, 1]]"
   ]
  },
  {
   "cell_type": "markdown",
   "metadata": {
    "id": "WG-5PVf3PBW_"
   },
   "source": [
    "Slicing also works, but **important**, in Pandas, the upper limit is also included:"
   ]
  },
  {
   "cell_type": "code",
   "execution_count": null,
   "metadata": {
    "id": "qrq0yBxlPBW_",
    "outputId": "f98bb84c-f753-4e95-fcb3-c023c904dbaa"
   },
   "outputs": [
    {
     "data": {
      "text/plain": [
       "Canada     35.467\n",
       "France     63.951\n",
       "Germany    80.940\n",
       "Italy      60.665\n",
       "Name: G7 Population in millions, dtype: float64"
      ]
     },
     "execution_count": 28,
     "metadata": {},
     "output_type": "execute_result"
    }
   ],
   "source": [
    "g7_pop['Canada': 'Italy']"
   ]
  },
  {
   "cell_type": "markdown",
   "metadata": {
    "id": "l8jV_kaYPBW_"
   },
   "source": [
    "![green-divider](https://user-images.githubusercontent.com/7065401/52071924-c003ad80-2562-11e9-8297-1c6595f8a7ff.png)\n",
    "\n",
    "## Conditional selection (boolean arrays)\n",
    "\n",
    "The same boolean array techniques we saw applied to numpy arrays can be used for Pandas `Series`:"
   ]
  },
  {
   "cell_type": "code",
   "execution_count": null,
   "metadata": {
    "id": "w-GGFX84PBXA",
    "outputId": "41fbfd4b-4410-46c3-da93-e8b1b3b05cd9"
   },
   "outputs": [
    {
     "data": {
      "text/plain": [
       "Canada             35.467\n",
       "France             63.951\n",
       "Germany            80.940\n",
       "Italy              60.665\n",
       "Japan             127.061\n",
       "United Kingdom     64.511\n",
       "United States     318.523\n",
       "Name: G7 Population in millions, dtype: float64"
      ]
     },
     "execution_count": 31,
     "metadata": {},
     "output_type": "execute_result"
    }
   ],
   "source": [
    "g7_pop"
   ]
  },
  {
   "cell_type": "code",
   "execution_count": null,
   "metadata": {
    "id": "5uN_Cd1APBXA",
    "outputId": "60f72012-9bea-48c4-938e-f52b7b1aecc1"
   },
   "outputs": [
    {
     "data": {
      "text/plain": [
       "Canada            False\n",
       "France            False\n",
       "Germany            True\n",
       "Italy             False\n",
       "Japan              True\n",
       "United Kingdom    False\n",
       "United States      True\n",
       "Name: G7 Population in millions, dtype: bool"
      ]
     },
     "execution_count": 32,
     "metadata": {},
     "output_type": "execute_result"
    }
   ],
   "source": [
    "g7_pop > 70"
   ]
  },
  {
   "cell_type": "code",
   "execution_count": null,
   "metadata": {
    "id": "blYN5ZHLPBXA",
    "outputId": "81774d45-c80d-427c-bc90-580711466e06"
   },
   "outputs": [
    {
     "data": {
      "text/plain": [
       "Germany           80.940\n",
       "Japan            127.061\n",
       "United States    318.523\n",
       "Name: G7 Population in millions, dtype: float64"
      ]
     },
     "execution_count": 33,
     "metadata": {},
     "output_type": "execute_result"
    }
   ],
   "source": [
    "g7_pop[g7_pop > 70]"
   ]
  },
  {
   "cell_type": "code",
   "execution_count": null,
   "metadata": {
    "id": "9hv-R1qdPBXA",
    "outputId": "397a6085-e7f9-4719-ce19-1c6950cee757"
   },
   "outputs": [
    {
     "data": {
      "text/plain": [
       "107.30257142857144"
      ]
     },
     "execution_count": 34,
     "metadata": {},
     "output_type": "execute_result"
    }
   ],
   "source": [
    "g7_pop.mean()"
   ]
  },
  {
   "cell_type": "code",
   "execution_count": null,
   "metadata": {
    "id": "0EOYLHZdPBXB",
    "outputId": "018a4782-f2a6-4a3d-95be-c14d539b0311"
   },
   "outputs": [
    {
     "data": {
      "text/plain": [
       "Japan            127.061\n",
       "United States    318.523\n",
       "Name: G7 Population in millions, dtype: float64"
      ]
     },
     "execution_count": 35,
     "metadata": {},
     "output_type": "execute_result"
    }
   ],
   "source": [
    "g7_pop[g7_pop > g7_pop.mean()]"
   ]
  },
  {
   "cell_type": "code",
   "execution_count": null,
   "metadata": {
    "id": "dAbR3lJJPBXB"
   },
   "outputs": [],
   "source": [
    "g7_pop.std()"
   ]
  },
  {
   "cell_type": "code",
   "execution_count": null,
   "metadata": {
    "id": "BMb9WVXRPBXB"
   },
   "outputs": [],
   "source": [
    "~ not\n",
    "| or\n",
    "& and"
   ]
  },
  {
   "cell_type": "code",
   "execution_count": null,
   "metadata": {
    "id": "zPO_gqzVPBXC",
    "scrolled": true
   },
   "outputs": [],
   "source": [
    "g7_pop[(g7_pop > g7_pop.mean() - g7_pop.std() / 2) | (g7_pop > g7_pop.mean() + g7_pop.std() / 2)]"
   ]
  },
  {
   "cell_type": "markdown",
   "metadata": {
    "id": "3Foai7BfPBXC"
   },
   "source": [
    "![green-divider](https://user-images.githubusercontent.com/7065401/52071924-c003ad80-2562-11e9-8297-1c6595f8a7ff.png)\n",
    "\n",
    "## Operations and methods\n",
    "Series also support vectorized operations and aggregation functions as Numpy:"
   ]
  },
  {
   "cell_type": "code",
   "execution_count": null,
   "metadata": {
    "id": "XFMby-TbPBXC",
    "outputId": "87a40e43-8f54-440c-e2da-238d82745e5f"
   },
   "outputs": [
    {
     "data": {
      "text/plain": [
       "Canada             35.467\n",
       "France             63.951\n",
       "Germany            80.940\n",
       "Italy              60.665\n",
       "Japan             127.061\n",
       "United Kingdom     64.511\n",
       "United States     318.523\n",
       "Name: G7 Population in millions, dtype: float64"
      ]
     },
     "execution_count": 29,
     "metadata": {},
     "output_type": "execute_result"
    }
   ],
   "source": [
    "g7_pop"
   ]
  },
  {
   "cell_type": "code",
   "execution_count": null,
   "metadata": {
    "id": "R0jMrDThPBXC",
    "outputId": "56f3bf5d-bdf8-4d6f-b223-e2468b6abfa1"
   },
   "outputs": [
    {
     "data": {
      "text/plain": [
       "Canada             35467000.0\n",
       "France             63951000.0\n",
       "Germany            80940000.0\n",
       "Italy              60665000.0\n",
       "Japan             127061000.0\n",
       "United Kingdom     64511000.0\n",
       "United States     318523000.0\n",
       "Name: G7 Population in millions, dtype: float64"
      ]
     },
     "execution_count": 30,
     "metadata": {},
     "output_type": "execute_result"
    }
   ],
   "source": [
    "g7_pop * 1_000_000"
   ]
  },
  {
   "cell_type": "code",
   "execution_count": null,
   "metadata": {
    "id": "36J9U8bxPBXD",
    "outputId": "fb93884c-fe4a-422a-b9c6-608939390212"
   },
   "outputs": [
    {
     "data": {
      "text/plain": [
       "107.30257142857144"
      ]
     },
     "execution_count": 36,
     "metadata": {},
     "output_type": "execute_result"
    }
   ],
   "source": [
    "g7_pop.mean()"
   ]
  },
  {
   "cell_type": "code",
   "execution_count": null,
   "metadata": {
    "id": "CQ3jBz3ZPBXD",
    "outputId": "250cb008-60db-444b-995e-f38e7359ae68",
    "scrolled": true
   },
   "outputs": [
    {
     "data": {
      "text/plain": [
       "Canada            3.568603\n",
       "France            4.158117\n",
       "Germany           4.393708\n",
       "Italy             4.105367\n",
       "Japan             4.844667\n",
       "United Kingdom    4.166836\n",
       "United States     5.763695\n",
       "Name: G7 Population in millions, dtype: float64"
      ]
     },
     "execution_count": 37,
     "metadata": {},
     "output_type": "execute_result"
    }
   ],
   "source": [
    "np.log(g7_pop)"
   ]
  },
  {
   "cell_type": "code",
   "execution_count": null,
   "metadata": {
    "id": "kn4kXdeiPBXD",
    "outputId": "80a45e59-1c88-430d-c59e-41402d75054d"
   },
   "outputs": [
    {
     "data": {
      "text/plain": [
       "68.51866666666666"
      ]
     },
     "execution_count": 38,
     "metadata": {},
     "output_type": "execute_result"
    }
   ],
   "source": [
    "g7_pop['France': 'Italy'].mean()"
   ]
  },
  {
   "cell_type": "markdown",
   "metadata": {
    "id": "YAPDg8t1PBXE"
   },
   "source": [
    "![green-divider](https://user-images.githubusercontent.com/7065401/52071924-c003ad80-2562-11e9-8297-1c6595f8a7ff.png)\n",
    "\n",
    "## Boolean arrays\n",
    "(Work in the same way as numpy)"
   ]
  },
  {
   "cell_type": "code",
   "execution_count": null,
   "metadata": {
    "id": "-y-LGWQUPBXE",
    "outputId": "c7628dfa-0b96-4f83-be9e-662bc3f65938"
   },
   "outputs": [
    {
     "data": {
      "text/plain": [
       "Canada             35.467\n",
       "France             63.951\n",
       "Germany            80.940\n",
       "Italy              60.665\n",
       "Japan             127.061\n",
       "United Kingdom     64.511\n",
       "United States     318.523\n",
       "Name: G7 Population in millions, dtype: float64"
      ]
     },
     "execution_count": 39,
     "metadata": {},
     "output_type": "execute_result"
    }
   ],
   "source": [
    "g7_pop"
   ]
  },
  {
   "cell_type": "code",
   "execution_count": null,
   "metadata": {
    "id": "yPrSDIyiPBXE",
    "outputId": "cb62cedc-74ce-4522-a5e3-b609ac0f91e1"
   },
   "outputs": [
    {
     "data": {
      "text/plain": [
       "Canada            False\n",
       "France            False\n",
       "Germany            True\n",
       "Italy             False\n",
       "Japan              True\n",
       "United Kingdom    False\n",
       "United States      True\n",
       "Name: G7 Population in millions, dtype: bool"
      ]
     },
     "execution_count": 40,
     "metadata": {},
     "output_type": "execute_result"
    }
   ],
   "source": [
    "g7_pop > 80"
   ]
  },
  {
   "cell_type": "code",
   "execution_count": null,
   "metadata": {
    "id": "NQaEKtE3PBXF",
    "outputId": "d1b280f5-e44d-4171-8f1d-d78fc3348495",
    "scrolled": true
   },
   "outputs": [
    {
     "data": {
      "text/plain": [
       "Germany           80.940\n",
       "Japan            127.061\n",
       "United States    318.523\n",
       "Name: G7 Population in millions, dtype: float64"
      ]
     },
     "execution_count": 41,
     "metadata": {},
     "output_type": "execute_result"
    }
   ],
   "source": [
    "g7_pop[g7_pop > 80]"
   ]
  },
  {
   "cell_type": "code",
   "execution_count": null,
   "metadata": {
    "id": "CvXbHhtyPBXF",
    "outputId": "18b5f1b4-57c1-4009-e97d-c5afefc0a25b",
    "scrolled": true
   },
   "outputs": [
    {
     "data": {
      "text/plain": [
       "Canada            35.467\n",
       "Germany           80.940\n",
       "Japan            127.061\n",
       "United States    318.523\n",
       "Name: G7 Population in millions, dtype: float64"
      ]
     },
     "execution_count": 42,
     "metadata": {},
     "output_type": "execute_result"
    }
   ],
   "source": [
    "g7_pop[(g7_pop > 80) | (g7_pop < 40)]"
   ]
  },
  {
   "cell_type": "code",
   "execution_count": null,
   "metadata": {
    "id": "hh_1TNWHPBXF",
    "outputId": "de1efc91-cae0-4f97-b628-91a316edba4c",
    "scrolled": true
   },
   "outputs": [
    {
     "data": {
      "text/plain": [
       "Germany     80.940\n",
       "Japan      127.061\n",
       "Name: G7 Population in millions, dtype: float64"
      ]
     },
     "execution_count": 43,
     "metadata": {},
     "output_type": "execute_result"
    }
   ],
   "source": [
    "g7_pop[(g7_pop > 80) & (g7_pop < 200)]"
   ]
  },
  {
   "cell_type": "markdown",
   "metadata": {
    "id": "uRhI-qNIPBXF"
   },
   "source": [
    "![green-divider](https://user-images.githubusercontent.com/7065401/52071924-c003ad80-2562-11e9-8297-1c6595f8a7ff.png)\n",
    "\n",
    "## Modifying series\n"
   ]
  },
  {
   "cell_type": "code",
   "execution_count": null,
   "metadata": {
    "id": "nYkUU1dSPBXG"
   },
   "outputs": [],
   "source": [
    "g7_pop['Canada'] = 40.5"
   ]
  },
  {
   "cell_type": "code",
   "execution_count": null,
   "metadata": {
    "id": "i-bfDubyPBXG",
    "outputId": "7e3a53ef-71aa-4842-d8cd-6bd2d7b299b6"
   },
   "outputs": [
    {
     "data": {
      "text/plain": [
       "Canada             40.500\n",
       "France             63.951\n",
       "Germany            80.940\n",
       "Italy              60.665\n",
       "Japan             127.061\n",
       "United Kingdom     64.511\n",
       "United States     318.523\n",
       "Name: G7 Population in millions, dtype: float64"
      ]
     },
     "execution_count": 45,
     "metadata": {},
     "output_type": "execute_result"
    }
   ],
   "source": [
    "g7_pop"
   ]
  },
  {
   "cell_type": "code",
   "execution_count": null,
   "metadata": {
    "id": "MI6AHHG-PBXG"
   },
   "outputs": [],
   "source": [
    "g7_pop.iloc[-1] = 500"
   ]
  },
  {
   "cell_type": "code",
   "execution_count": null,
   "metadata": {
    "id": "j-_CKa4YPBXG",
    "outputId": "4648e2e3-ce49-4fd2-e0a3-52365bbbd5cc"
   },
   "outputs": [
    {
     "data": {
      "text/plain": [
       "Canada             40.500\n",
       "France             63.951\n",
       "Germany            80.940\n",
       "Italy              60.665\n",
       "Japan             127.061\n",
       "United Kingdom     64.511\n",
       "United States     500.000\n",
       "Name: G7 Population in millions, dtype: float64"
      ]
     },
     "execution_count": 47,
     "metadata": {},
     "output_type": "execute_result"
    }
   ],
   "source": [
    "g7_pop"
   ]
  },
  {
   "cell_type": "code",
   "execution_count": null,
   "metadata": {
    "id": "kMQoHMxbPBXG",
    "outputId": "180d5567-c8e5-4f13-a782-632e58a9d66a"
   },
   "outputs": [
    {
     "data": {
      "text/plain": [
       "Canada            40.500\n",
       "France            63.951\n",
       "Italy             60.665\n",
       "United Kingdom    64.511\n",
       "Name: G7 Population in millions, dtype: float64"
      ]
     },
     "execution_count": 48,
     "metadata": {},
     "output_type": "execute_result"
    }
   ],
   "source": [
    "g7_pop[g7_pop < 70]"
   ]
  },
  {
   "cell_type": "code",
   "execution_count": null,
   "metadata": {
    "id": "QzQYoeToPBXG"
   },
   "outputs": [],
   "source": [
    "g7_pop[g7_pop < 70] = 99.99"
   ]
  },
  {
   "cell_type": "code",
   "execution_count": null,
   "metadata": {
    "id": "tTr12DXxPBXG",
    "outputId": "64581669-30c8-4450-a1f5-5c1ea9a14fa9",
    "scrolled": true
   },
   "outputs": [
    {
     "data": {
      "text/plain": [
       "Canada             99.990\n",
       "France             99.990\n",
       "Germany            80.940\n",
       "Italy              99.990\n",
       "Japan             127.061\n",
       "United Kingdom     99.990\n",
       "United States     500.000\n",
       "Name: G7 Population in millions, dtype: float64"
      ]
     },
     "execution_count": 50,
     "metadata": {},
     "output_type": "execute_result"
    }
   ],
   "source": [
    "g7_pop"
   ]
  },
  {
   "cell_type": "markdown",
   "metadata": {
    "id": "U4FM9jevPBXH"
   },
   "source": [
    "![purple-divider](https://user-images.githubusercontent.com/7065401/52071927-c1cd7100-2562-11e9-908a-dde91ba14e59.png)\n"
   ]
  }
 ],
 "metadata": {
  "colab": {
   "collapsed_sections": [
    "UEQH4cBNPBW8",
    "l8jV_kaYPBW_",
    "3Foai7BfPBXC",
    "YAPDg8t1PBXE",
    "uRhI-qNIPBXF"
   ],
   "name": "Pandas_1",
   "provenance": [],
   "toc_visible": true
  },
  "kernelspec": {
   "display_name": "Python 3",
   "language": "python",
   "name": "python3"
  },
  "language_info": {
   "codemirror_mode": {
    "name": "ipython",
    "version": 3
   },
   "file_extension": ".py",
   "mimetype": "text/x-python",
   "name": "python",
   "nbconvert_exporter": "python",
   "pygments_lexer": "ipython3",
   "version": "3.7.6"
  }
 },
 "nbformat": 4,
 "nbformat_minor": 1
}
